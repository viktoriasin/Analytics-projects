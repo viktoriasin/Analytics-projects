{
 "cells": [
  {
   "cell_type": "code",
   "execution_count": 218,
   "id": "342c0a44",
   "metadata": {},
   "outputs": [],
   "source": [
    "import numpy as np\n",
    "import pandas as pd\n",
    "import seaborn as sns\n",
    "import matplotlib.pyplot as plt\n",
    "import numpy as np\n",
    "import hashlib\n",
    "import matplotlib.ticker as ticker\n",
    "import scipy as sp\n",
    "import scipy.stats as stats\n",
    "\n",
    "from typing import Tuple, Dict, Optional, Set, List\n",
    "from fitter import Fitter, get_common_distributions, get_distributions\n",
    "from matplotlib.axes import Axes\n",
    "from scipy import stats\n",
    "from tqdm import tqdm\n",
    "\n",
    "\n",
    "import warnings\n",
    "warnings.filterwarnings('ignore')\n",
    "\n",
    "%matplotlib inline\n",
    "sns.set(rc={'figure.figsize':(11.7,8.27)})"
   ]
  },
  {
   "cell_type": "code",
   "execution_count": 2,
   "id": "e19a3925",
   "metadata": {},
   "outputs": [],
   "source": [
    "df = pd.read_csv('experiment_42.csv', sep=\";\", usecols=['id', 'click', 'view', 'var'])"
   ]
  },
  {
   "cell_type": "code",
   "execution_count": 3,
   "id": "0f3d3c49",
   "metadata": {},
   "outputs": [
    {
     "data": {
      "text/html": [
       "<div>\n",
       "<style scoped>\n",
       "    .dataframe tbody tr th:only-of-type {\n",
       "        vertical-align: middle;\n",
       "    }\n",
       "\n",
       "    .dataframe tbody tr th {\n",
       "        vertical-align: top;\n",
       "    }\n",
       "\n",
       "    .dataframe thead th {\n",
       "        text-align: right;\n",
       "    }\n",
       "</style>\n",
       "<table border=\"1\" class=\"dataframe\">\n",
       "  <thead>\n",
       "    <tr style=\"text-align: right;\">\n",
       "      <th></th>\n",
       "      <th>id</th>\n",
       "      <th>click</th>\n",
       "      <th>view</th>\n",
       "      <th>var</th>\n",
       "    </tr>\n",
       "  </thead>\n",
       "  <tbody>\n",
       "    <tr>\n",
       "      <th>0</th>\n",
       "      <td>4dMaH8wQnr</td>\n",
       "      <td>18</td>\n",
       "      <td>99</td>\n",
       "      <td>A</td>\n",
       "    </tr>\n",
       "    <tr>\n",
       "      <th>1</th>\n",
       "      <td>6YGuuP1Tjg</td>\n",
       "      <td>17</td>\n",
       "      <td>20</td>\n",
       "      <td>B</td>\n",
       "    </tr>\n",
       "    <tr>\n",
       "      <th>2</th>\n",
       "      <td>iouKOyTKKH</td>\n",
       "      <td>20</td>\n",
       "      <td>38</td>\n",
       "      <td>B</td>\n",
       "    </tr>\n",
       "    <tr>\n",
       "      <th>3</th>\n",
       "      <td>P9yRoGtIfj</td>\n",
       "      <td>9</td>\n",
       "      <td>70</td>\n",
       "      <td>B</td>\n",
       "    </tr>\n",
       "    <tr>\n",
       "      <th>4</th>\n",
       "      <td>PLUtBt5R4w</td>\n",
       "      <td>12</td>\n",
       "      <td>24</td>\n",
       "      <td>A</td>\n",
       "    </tr>\n",
       "  </tbody>\n",
       "</table>\n",
       "</div>"
      ],
      "text/plain": [
       "           id  click  view var\n",
       "0  4dMaH8wQnr     18    99   A\n",
       "1  6YGuuP1Tjg     17    20   B\n",
       "2  iouKOyTKKH     20    38   B\n",
       "3  P9yRoGtIfj      9    70   B\n",
       "4  PLUtBt5R4w     12    24   A"
      ]
     },
     "execution_count": 3,
     "metadata": {},
     "output_type": "execute_result"
    }
   ],
   "source": [
    "df.head()"
   ]
  },
  {
   "cell_type": "code",
   "execution_count": 4,
   "id": "1348ee9d",
   "metadata": {},
   "outputs": [
    {
     "name": "stdout",
     "output_type": "stream",
     "text": [
      "<class 'pandas.core.frame.DataFrame'>\n",
      "RangeIndex: 9526 entries, 0 to 9525\n",
      "Data columns (total 4 columns):\n",
      " #   Column  Non-Null Count  Dtype \n",
      "---  ------  --------------  ----- \n",
      " 0   id      9526 non-null   object\n",
      " 1   click   9526 non-null   int64 \n",
      " 2   view    9526 non-null   int64 \n",
      " 3   var     9526 non-null   object\n",
      "dtypes: int64(2), object(2)\n",
      "memory usage: 297.8+ KB\n"
     ]
    }
   ],
   "source": [
    "df.info()"
   ]
  },
  {
   "cell_type": "code",
   "execution_count": 5,
   "id": "da9f2c90",
   "metadata": {},
   "outputs": [
    {
     "data": {
      "text/plain": [
       "9526"
      ]
     },
     "execution_count": 5,
     "metadata": {},
     "output_type": "execute_result"
    }
   ],
   "source": [
    "df.shape[0]"
   ]
  },
  {
   "cell_type": "code",
   "execution_count": 6,
   "id": "77e599c3",
   "metadata": {},
   "outputs": [
    {
     "data": {
      "text/plain": [
       "var\n",
       "A    4772\n",
       "B    4754\n",
       "Name: id, dtype: int64"
      ]
     },
     "execution_count": 6,
     "metadata": {},
     "output_type": "execute_result"
    }
   ],
   "source": [
    "df.groupby(\"var\").id.count()"
   ]
  },
  {
   "cell_type": "code",
   "execution_count": 7,
   "id": "e4f05b2c",
   "metadata": {},
   "outputs": [
    {
     "data": {
      "text/html": [
       "<div>\n",
       "<style scoped>\n",
       "    .dataframe tbody tr th:only-of-type {\n",
       "        vertical-align: middle;\n",
       "    }\n",
       "\n",
       "    .dataframe tbody tr th {\n",
       "        vertical-align: top;\n",
       "    }\n",
       "\n",
       "    .dataframe thead th {\n",
       "        text-align: right;\n",
       "    }\n",
       "</style>\n",
       "<table border=\"1\" class=\"dataframe\">\n",
       "  <thead>\n",
       "    <tr style=\"text-align: right;\">\n",
       "      <th></th>\n",
       "      <th>click</th>\n",
       "      <th>view</th>\n",
       "    </tr>\n",
       "  </thead>\n",
       "  <tbody>\n",
       "    <tr>\n",
       "      <th>count</th>\n",
       "      <td>9526.000000</td>\n",
       "      <td>9526.000000</td>\n",
       "    </tr>\n",
       "    <tr>\n",
       "      <th>mean</th>\n",
       "      <td>12.025404</td>\n",
       "      <td>63.708692</td>\n",
       "    </tr>\n",
       "    <tr>\n",
       "      <th>std</th>\n",
       "      <td>7.231238</td>\n",
       "      <td>31.185067</td>\n",
       "    </tr>\n",
       "    <tr>\n",
       "      <th>min</th>\n",
       "      <td>0.000000</td>\n",
       "      <td>10.000000</td>\n",
       "    </tr>\n",
       "    <tr>\n",
       "      <th>25%</th>\n",
       "      <td>6.000000</td>\n",
       "      <td>36.000000</td>\n",
       "    </tr>\n",
       "    <tr>\n",
       "      <th>50%</th>\n",
       "      <td>12.000000</td>\n",
       "      <td>64.000000</td>\n",
       "    </tr>\n",
       "    <tr>\n",
       "      <th>75%</th>\n",
       "      <td>18.000000</td>\n",
       "      <td>90.750000</td>\n",
       "    </tr>\n",
       "    <tr>\n",
       "      <th>max</th>\n",
       "      <td>24.000000</td>\n",
       "      <td>117.000000</td>\n",
       "    </tr>\n",
       "  </tbody>\n",
       "</table>\n",
       "</div>"
      ],
      "text/plain": [
       "             click         view\n",
       "count  9526.000000  9526.000000\n",
       "mean     12.025404    63.708692\n",
       "std       7.231238    31.185067\n",
       "min       0.000000    10.000000\n",
       "25%       6.000000    36.000000\n",
       "50%      12.000000    64.000000\n",
       "75%      18.000000    90.750000\n",
       "max      24.000000   117.000000"
      ]
     },
     "execution_count": 7,
     "metadata": {},
     "output_type": "execute_result"
    }
   ],
   "source": [
    "df.describe()"
   ]
  },
  {
   "cell_type": "code",
   "execution_count": 8,
   "id": "87ed42f9",
   "metadata": {},
   "outputs": [
    {
     "data": {
      "text/html": [
       "<div>\n",
       "<style scoped>\n",
       "    .dataframe tbody tr th:only-of-type {\n",
       "        vertical-align: middle;\n",
       "    }\n",
       "\n",
       "    .dataframe tbody tr th {\n",
       "        vertical-align: top;\n",
       "    }\n",
       "\n",
       "    .dataframe thead th {\n",
       "        text-align: right;\n",
       "    }\n",
       "</style>\n",
       "<table border=\"1\" class=\"dataframe\">\n",
       "  <thead>\n",
       "    <tr style=\"text-align: right;\">\n",
       "      <th></th>\n",
       "      <th>id</th>\n",
       "      <th>click</th>\n",
       "      <th>view</th>\n",
       "      <th>var</th>\n",
       "    </tr>\n",
       "  </thead>\n",
       "  <tbody>\n",
       "  </tbody>\n",
       "</table>\n",
       "</div>"
      ],
      "text/plain": [
       "Empty DataFrame\n",
       "Columns: [id, click, view, var]\n",
       "Index: []"
      ]
     },
     "execution_count": 8,
     "metadata": {},
     "output_type": "execute_result"
    }
   ],
   "source": [
    "df[df.isnull().any(axis=1)]"
   ]
  },
  {
   "cell_type": "code",
   "execution_count": 9,
   "id": "fa2d76fd",
   "metadata": {},
   "outputs": [
    {
     "data": {
      "text/plain": [
       "Series([], Name: click, dtype: int64)"
      ]
     },
     "execution_count": 9,
     "metadata": {},
     "output_type": "execute_result"
    }
   ],
   "source": [
    "df.groupby('id').click.filter(lambda x: len(x) > 1)"
   ]
  },
  {
   "cell_type": "code",
   "execution_count": 10,
   "id": "046129c1",
   "metadata": {},
   "outputs": [
    {
     "data": {
      "text/plain": [
       "0       0.18\n",
       "1       0.85\n",
       "2       0.53\n",
       "3       0.13\n",
       "4       0.50\n",
       "        ... \n",
       "9521    0.08\n",
       "9522    0.17\n",
       "9523    0.12\n",
       "9524    0.10\n",
       "9525    0.12\n",
       "Length: 9526, dtype: float64"
      ]
     },
     "execution_count": 10,
     "metadata": {},
     "output_type": "execute_result"
    }
   ],
   "source": [
    "(df.click / df.view).round(2)"
   ]
  },
  {
   "cell_type": "code",
   "execution_count": 319,
   "id": "c595d2ea",
   "metadata": {},
   "outputs": [],
   "source": [
    "df['ctr'] = (df.click / df.view)"
   ]
  },
  {
   "cell_type": "code",
   "execution_count": 320,
   "id": "6b7ee97b",
   "metadata": {},
   "outputs": [
    {
     "data": {
      "text/html": [
       "<div>\n",
       "<style scoped>\n",
       "    .dataframe tbody tr th:only-of-type {\n",
       "        vertical-align: middle;\n",
       "    }\n",
       "\n",
       "    .dataframe tbody tr th {\n",
       "        vertical-align: top;\n",
       "    }\n",
       "\n",
       "    .dataframe thead th {\n",
       "        text-align: right;\n",
       "    }\n",
       "</style>\n",
       "<table border=\"1\" class=\"dataframe\">\n",
       "  <thead>\n",
       "    <tr style=\"text-align: right;\">\n",
       "      <th></th>\n",
       "      <th>click</th>\n",
       "      <th>view</th>\n",
       "      <th>ctr</th>\n",
       "    </tr>\n",
       "  </thead>\n",
       "  <tbody>\n",
       "    <tr>\n",
       "      <th>count</th>\n",
       "      <td>9154.000000</td>\n",
       "      <td>9154.000000</td>\n",
       "      <td>9154.000000</td>\n",
       "    </tr>\n",
       "    <tr>\n",
       "      <th>mean</th>\n",
       "      <td>11.709307</td>\n",
       "      <td>65.717391</td>\n",
       "      <td>0.231265</td>\n",
       "    </tr>\n",
       "    <tr>\n",
       "      <th>std</th>\n",
       "      <td>7.167652</td>\n",
       "      <td>30.136946</td>\n",
       "      <td>0.202173</td>\n",
       "    </tr>\n",
       "    <tr>\n",
       "      <th>min</th>\n",
       "      <td>0.000000</td>\n",
       "      <td>10.000000</td>\n",
       "      <td>0.000000</td>\n",
       "    </tr>\n",
       "    <tr>\n",
       "      <th>25%</th>\n",
       "      <td>5.000000</td>\n",
       "      <td>40.000000</td>\n",
       "      <td>0.086420</td>\n",
       "    </tr>\n",
       "    <tr>\n",
       "      <th>50%</th>\n",
       "      <td>12.000000</td>\n",
       "      <td>66.000000</td>\n",
       "      <td>0.181818</td>\n",
       "    </tr>\n",
       "    <tr>\n",
       "      <th>75%</th>\n",
       "      <td>18.000000</td>\n",
       "      <td>91.000000</td>\n",
       "      <td>0.305556</td>\n",
       "    </tr>\n",
       "    <tr>\n",
       "      <th>max</th>\n",
       "      <td>24.000000</td>\n",
       "      <td>117.000000</td>\n",
       "      <td>1.000000</td>\n",
       "    </tr>\n",
       "  </tbody>\n",
       "</table>\n",
       "</div>"
      ],
      "text/plain": [
       "             click         view          ctr\n",
       "count  9154.000000  9154.000000  9154.000000\n",
       "mean     11.709307    65.717391     0.231265\n",
       "std       7.167652    30.136946     0.202173\n",
       "min       0.000000    10.000000     0.000000\n",
       "25%       5.000000    40.000000     0.086420\n",
       "50%      12.000000    66.000000     0.181818\n",
       "75%      18.000000    91.000000     0.305556\n",
       "max      24.000000   117.000000     1.000000"
      ]
     },
     "execution_count": 320,
     "metadata": {},
     "output_type": "execute_result"
    }
   ],
   "source": [
    "df.describe()"
   ]
  },
  {
   "cell_type": "code",
   "execution_count": 321,
   "id": "d2cf2d80",
   "metadata": {},
   "outputs": [
    {
     "data": {
      "text/html": [
       "<div>\n",
       "<style scoped>\n",
       "    .dataframe tbody tr th:only-of-type {\n",
       "        vertical-align: middle;\n",
       "    }\n",
       "\n",
       "    .dataframe tbody tr th {\n",
       "        vertical-align: top;\n",
       "    }\n",
       "\n",
       "    .dataframe thead th {\n",
       "        text-align: right;\n",
       "    }\n",
       "</style>\n",
       "<table border=\"1\" class=\"dataframe\">\n",
       "  <thead>\n",
       "    <tr style=\"text-align: right;\">\n",
       "      <th></th>\n",
       "      <th>id</th>\n",
       "      <th>click</th>\n",
       "      <th>view</th>\n",
       "      <th>var</th>\n",
       "      <th>ctr</th>\n",
       "    </tr>\n",
       "  </thead>\n",
       "  <tbody>\n",
       "  </tbody>\n",
       "</table>\n",
       "</div>"
      ],
      "text/plain": [
       "Empty DataFrame\n",
       "Columns: [id, click, view, var, ctr]\n",
       "Index: []"
      ]
     },
     "execution_count": 321,
     "metadata": {},
     "output_type": "execute_result"
    }
   ],
   "source": [
    "\n",
    "df[df.ctr > 1].head()"
   ]
  },
  {
   "cell_type": "code",
   "execution_count": 14,
   "id": "7f25bd8e",
   "metadata": {},
   "outputs": [
    {
     "data": {
      "text/plain": [
       "372"
      ]
     },
     "execution_count": 14,
     "metadata": {},
     "output_type": "execute_result"
    }
   ],
   "source": [
    "df[df.ctr > 1].id.count()"
   ]
  },
  {
   "cell_type": "markdown",
   "id": "8158a0df",
   "metadata": {},
   "source": [
    "Тут видно какая-то аномалия в исходных данных, примерно в 4% от всех данных поюзерный CTR > 1, чего по определению метрики быть не должно. Такие аномалии могут потенциально испортить расчеты, поэтому уберем их из исходных данных"
   ]
  },
  {
   "cell_type": "code",
   "execution_count": 15,
   "id": "205daa0e",
   "metadata": {},
   "outputs": [
    {
     "data": {
      "text/plain": [
       "45"
      ]
     },
     "execution_count": 15,
     "metadata": {},
     "output_type": "execute_result"
    }
   ],
   "source": [
    "df[df.ctr == 1].id.count()"
   ]
  },
  {
   "cell_type": "code",
   "execution_count": 16,
   "id": "efe8fd73",
   "metadata": {},
   "outputs": [],
   "source": [
    "df = df[df.ctr <= 1]"
   ]
  },
  {
   "cell_type": "code",
   "execution_count": 17,
   "id": "a56c4ee6",
   "metadata": {},
   "outputs": [
    {
     "data": {
      "text/plain": [
       "9154"
      ]
     },
     "execution_count": 17,
     "metadata": {},
     "output_type": "execute_result"
    }
   ],
   "source": [
    "df.shape[0]"
   ]
  },
  {
   "cell_type": "code",
   "execution_count": 53,
   "id": "7736de1b",
   "metadata": {},
   "outputs": [
    {
     "data": {
      "text/plain": [
       "click  var\n",
       "0      A      207\n",
       "       B      171\n",
       "1      A      186\n",
       "       B      195\n",
       "2      A      178\n",
       "       B      221\n",
       "3      A      166\n",
       "       B      203\n",
       "4      A      201\n",
       "       B      190\n",
       "5      A      189\n",
       "       B      190\n",
       "6      A      195\n",
       "       B      188\n",
       "7      A      195\n",
       "       B      187\n",
       "8      A      175\n",
       "       B      219\n",
       "9      A      178\n",
       "       B      177\n",
       "Name: id, dtype: int64"
      ]
     },
     "execution_count": 53,
     "metadata": {},
     "output_type": "execute_result"
    }
   ],
   "source": [
    "df.groupby(['click', 'var']).id.count().head(20)"
   ]
  },
  {
   "cell_type": "code",
   "execution_count": 166,
   "id": "afc8f4cf",
   "metadata": {},
   "outputs": [
    {
     "data": {
      "text/html": [
       "<div>\n",
       "<style scoped>\n",
       "    .dataframe tbody tr th:only-of-type {\n",
       "        vertical-align: middle;\n",
       "    }\n",
       "\n",
       "    .dataframe tbody tr th {\n",
       "        vertical-align: top;\n",
       "    }\n",
       "\n",
       "    .dataframe thead th {\n",
       "        text-align: right;\n",
       "    }\n",
       "</style>\n",
       "<table border=\"1\" class=\"dataframe\">\n",
       "  <thead>\n",
       "    <tr style=\"text-align: right;\">\n",
       "      <th></th>\n",
       "      <th>click</th>\n",
       "      <th>view</th>\n",
       "      <th>ctr</th>\n",
       "    </tr>\n",
       "  </thead>\n",
       "  <tbody>\n",
       "    <tr>\n",
       "      <th>count</th>\n",
       "      <td>9154.000000</td>\n",
       "      <td>9154.000000</td>\n",
       "      <td>9154.000000</td>\n",
       "    </tr>\n",
       "    <tr>\n",
       "      <th>mean</th>\n",
       "      <td>11.709307</td>\n",
       "      <td>65.717391</td>\n",
       "      <td>0.231264</td>\n",
       "    </tr>\n",
       "    <tr>\n",
       "      <th>std</th>\n",
       "      <td>7.167652</td>\n",
       "      <td>30.136946</td>\n",
       "      <td>0.202173</td>\n",
       "    </tr>\n",
       "    <tr>\n",
       "      <th>min</th>\n",
       "      <td>0.000000</td>\n",
       "      <td>10.000000</td>\n",
       "      <td>0.000000</td>\n",
       "    </tr>\n",
       "    <tr>\n",
       "      <th>25%</th>\n",
       "      <td>5.000000</td>\n",
       "      <td>40.000000</td>\n",
       "      <td>0.086400</td>\n",
       "    </tr>\n",
       "    <tr>\n",
       "      <th>50%</th>\n",
       "      <td>12.000000</td>\n",
       "      <td>66.000000</td>\n",
       "      <td>0.181800</td>\n",
       "    </tr>\n",
       "    <tr>\n",
       "      <th>75%</th>\n",
       "      <td>18.000000</td>\n",
       "      <td>91.000000</td>\n",
       "      <td>0.305600</td>\n",
       "    </tr>\n",
       "    <tr>\n",
       "      <th>max</th>\n",
       "      <td>24.000000</td>\n",
       "      <td>117.000000</td>\n",
       "      <td>1.000000</td>\n",
       "    </tr>\n",
       "  </tbody>\n",
       "</table>\n",
       "</div>"
      ],
      "text/plain": [
       "             click         view          ctr\n",
       "count  9154.000000  9154.000000  9154.000000\n",
       "mean     11.709307    65.717391     0.231264\n",
       "std       7.167652    30.136946     0.202173\n",
       "min       0.000000    10.000000     0.000000\n",
       "25%       5.000000    40.000000     0.086400\n",
       "50%      12.000000    66.000000     0.181800\n",
       "75%      18.000000    91.000000     0.305600\n",
       "max      24.000000   117.000000     1.000000"
      ]
     },
     "execution_count": 166,
     "metadata": {},
     "output_type": "execute_result"
    }
   ],
   "source": [
    "df.describe()"
   ]
  },
  {
   "cell_type": "markdown",
   "id": "1c761c6b",
   "metadata": {},
   "source": [
    "### Изучение исходных данных"
   ]
  },
  {
   "cell_type": "code",
   "execution_count": 299,
   "id": "b3fffc4d",
   "metadata": {},
   "outputs": [
    {
     "data": {
      "image/png": "[encoded data removed]",
      "text/plain": [
       "<Figure size 360x360 with 1 Axes>"
      ]
     },
     "metadata": {},
     "output_type": "display_data"
    }
   ],
   "source": [
    "groups = sns.histplot(data = df, \n",
    "              x='click', \n",
    "              hue='var', \n",
    "              palette = ['r', 'b'],\n",
    "              alpha=0.5,\n",
    "              kde=True, discrete=True)\n",
    "\n",
    "groups.set_title(\"Распределение кликов в тестовых группах\");\n",
    "\n",
    "groups.xaxis.set_major_locator(ticker.MultipleLocator(1))\n",
    "groups.set(xlim=(-0.5, None)) \n",
    "groups.xaxis.set_major_formatter(ticker.ScalarFormatter())"
   ]
  },
  {
   "cell_type": "code",
   "execution_count": 298,
   "id": "419fddf6",
   "metadata": {},
   "outputs": [
    {
     "data": {
      "image/png": "[encoded data removed]",
      "text/plain": [
       "<Figure size 360x360 with 1 Axes>"
      ]
     },
     "metadata": {},
     "output_type": "display_data"
    }
   ],
   "source": [
    "groups = sns.histplot(data = df, \n",
    "              x='view', \n",
    "              hue='var', \n",
    "              palette = ['r', 'b'],\n",
    "              alpha=0.5,\n",
    "              kde=True, discrete=True)\n",
    "\n",
    "groups.set_title(\"Распределение просмотров в тестовых группах\");\n",
    "\n",
    "groups.xaxis.set_major_locator(ticker.MultipleLocator(20))\n",
    "groups.set(xlim=(0, None)) \n",
    "groups.xaxis.set_major_formatter(ticker.ScalarFormatter())"
   ]
  },
  {
   "cell_type": "markdown",
   "id": "c86894c6",
   "metadata": {},
   "source": [
    "Интересный вид распределения у кликов и просмотров - очень похоже на равномерное распределение"
   ]
  },
  {
   "cell_type": "code",
   "execution_count": 341,
   "id": "9ea33438",
   "metadata": {},
   "outputs": [],
   "source": [
    "pd.set_option('display.max_rows', 500)"
   ]
  },
  {
   "cell_type": "code",
   "execution_count": 305,
   "id": "f46a72e7",
   "metadata": {},
   "outputs": [],
   "source": [
    "ctr_rounded = df.ctr.round(2)"
   ]
  },
  {
   "cell_type": "code",
   "execution_count": 325,
   "id": "7a56703d",
   "metadata": {},
   "outputs": [
    {
     "data": {
      "text/plain": [
       "0     378\n",
       "1     381\n",
       "2     399\n",
       "3     369\n",
       "4     391\n",
       "5     379\n",
       "6     383\n",
       "7     382\n",
       "8     394\n",
       "9     355\n",
       "10    341\n",
       "11    372\n",
       "12    386\n",
       "13    371\n",
       "14    374\n",
       "15    333\n",
       "16    368\n",
       "17    393\n",
       "18    361\n",
       "19    352\n",
       "20    332\n",
       "21    382\n",
       "22    310\n",
       "23    334\n",
       "24    334\n",
       "Name: click, dtype: int64"
      ]
     },
     "execution_count": 325,
     "metadata": {},
     "output_type": "execute_result"
    }
   ],
   "source": [
    "df.click.value_counts().sort_index()"
   ]
  },
  {
   "cell_type": "code",
   "execution_count": 323,
   "id": "3f687d10",
   "metadata": {},
   "outputs": [
    {
     "data": {
      "text/plain": [
       "0.000000    378\n",
       "0.008547      4\n",
       "0.008621      4\n",
       "0.008696      4\n",
       "0.008772      6\n",
       "           ... \n",
       "0.954545      5\n",
       "0.956522      4\n",
       "0.958333      4\n",
       "0.960000      5\n",
       "1.000000     45\n",
       "Name: ctr, Length: 1518, dtype: int64"
      ]
     },
     "execution_count": 323,
     "metadata": {},
     "output_type": "execute_result"
    }
   ],
   "source": [
    "df.ctr.value_counts().sort_index()"
   ]
  },
  {
   "cell_type": "code",
   "execution_count": 328,
   "id": "a6e74982",
   "metadata": {},
   "outputs": [
    {
     "data": {
      "text/plain": [
       "10     31\n",
       "11     43\n",
       "12     34\n",
       "13     51\n",
       "14     54\n",
       "15     69\n",
       "16     52\n",
       "17     57\n",
       "18     64\n",
       "19     64\n",
       "20     79\n",
       "21     62\n",
       "22     86\n",
       "23     79\n",
       "24     93\n",
       "25    100\n",
       "26     90\n",
       "27     85\n",
       "28     90\n",
       "29     98\n",
       "30    104\n",
       "31    109\n",
       "32     84\n",
       "33     74\n",
       "34     93\n",
       "35     94\n",
       "36     81\n",
       "37     65\n",
       "38     91\n",
       "39     88\n",
       "40     83\n",
       "41     85\n",
       "42     78\n",
       "43     93\n",
       "44     90\n",
       "45    106\n",
       "46     89\n",
       "47     93\n",
       "48     86\n",
       "49     80\n",
       "50     79\n",
       "51     90\n",
       "52     76\n",
       "53     82\n",
       "54     95\n",
       "55     89\n",
       "56     77\n",
       "57     95\n",
       "58     85\n",
       "59     92\n",
       "Name: view, dtype: int64"
      ]
     },
     "execution_count": 328,
     "metadata": {},
     "output_type": "execute_result"
    }
   ],
   "source": [
    "df.view.value_counts().sort_index()[:50]"
   ]
  },
  {
   "cell_type": "code",
   "execution_count": 324,
   "id": "fc1b71c6",
   "metadata": {},
   "outputs": [
    {
     "data": {
      "text/plain": [
       "Text(0.5, 1.0, 'Распределение поюзерного ctr')"
      ]
     },
     "execution_count": 324,
     "metadata": {},
     "output_type": "execute_result"
    },
    {
     "data": {
      "image/png": "[encoded data removed]",
      "text/plain": [
       "<Figure size 360x360 with 1 Axes>"
      ]
     },
     "metadata": {},
     "output_type": "display_data"
    }
   ],
   "source": [
    "fig, ax = plt.subplots()\n",
    "\n",
    "sns.histplot(data = df, \n",
    "              x='ctr',  \n",
    "              palette = ['r', 'b'],\n",
    "              stat='probability',\n",
    "              alpha=0.5, ax=ax,\n",
    "              kde=True)\n",
    "ax.set_title(\"Распределение поюзерного ctr\")\n"
   ]
  },
  {
   "cell_type": "code",
   "execution_count": 57,
   "id": "a356892e",
   "metadata": {},
   "outputs": [
    {
     "data": {
      "image/png": "[encoded data removed]",
      "text/plain": [
       "<Figure size 842.4x595.44 with 1 Axes>"
      ]
     },
     "metadata": {},
     "output_type": "display_data"
    }
   ],
   "source": [
    "fig, ax = plt.subplots()\n",
    "\n",
    "sns.histplot(data = df, \n",
    "              x='ctr', \n",
    "              hue='var', \n",
    "              palette = ['r', 'b'],\n",
    "              stat='probability',\n",
    "              alpha=0.5, ax=ax,\n",
    "              kde=True)\n",
    "ax.set_title(\"Распределение поюзерного ctr в тестовых группах\");\n"
   ]
  },
  {
   "cell_type": "markdown",
   "id": "e1de4090",
   "metadata": {},
   "source": [
    "А вот форма распределения CTR достаточно хитрая: если бы не большое количество пользователей с 0 ctr, то можно было бы считать, что распределение по форме ближе к бета распределению. По сути сама по себе природа кликов и показов с равномерным распределением очень странная, обычно все таки наблюдается тяготение значений к определенному числу и скошенность таких распределений. Здесь как будто бы что-то не верно с данными.\n",
    "Распределение поюзерного CTR имеет похожее на равномерное распределение на двух участках: для невысоких ctr и для высоких ctr"
   ]
  },
  {
   "cell_type": "markdown",
   "id": "709be292",
   "metadata": {},
   "source": [
    "Стандартное отклонение метрики поюзерного ctr  достаточно высокое:"
   ]
  },
  {
   "cell_type": "code",
   "execution_count": 59,
   "id": "b2604213",
   "metadata": {},
   "outputs": [
    {
     "data": {
      "text/plain": [
       "0.20217335708709921"
      ]
     },
     "execution_count": 59,
     "metadata": {},
     "output_type": "execute_result"
    }
   ],
   "source": [
    "df.ctr.std()"
   ]
  },
  {
   "cell_type": "code",
   "execution_count": 139,
   "id": "fa2fd2a3",
   "metadata": {},
   "outputs": [
    {
     "data": {
      "text/plain": [
       "0.2312639283373389"
      ]
     },
     "execution_count": 139,
     "metadata": {},
     "output_type": "execute_result"
    }
   ],
   "source": [
    "df.ctr.values.mean()"
   ]
  },
  {
   "cell_type": "code",
   "execution_count": 90,
   "id": "c4c71163",
   "metadata": {},
   "outputs": [
    {
     "name": "stderr",
     "output_type": "stream",
     "text": [
      "Fitting 106 distributions:  27%|████           | 29/106 [00:21<03:31,  2.75s/it]/Users/viktoria.sinditskaya/opt/anaconda3/lib/python3.9/site-packages/scipy/stats/_continuous_distns.py:3866: IntegrationWarning: The algorithm does not converge.  Roundoff error is detected\n",
      "  in the extrapolation table.  It is assumed that the requested tolerance\n",
      "  cannot be achieved, and that the returned result (if full_output = 1) is \n",
      "  the best which can be obtained.\n",
      "  return integrate.quad(llc, _a, x)[0]\n",
      "Fitting 106 distributions:  28%|████▏          | 30/106 [00:22<03:06,  2.45s/it]/Users/viktoria.sinditskaya/opt/anaconda3/lib/python3.9/site-packages/scipy/stats/_continuous_distns.py:3094: IntegrationWarning: The algorithm does not converge.  Roundoff error is detected\n",
      "  in the extrapolation table.  It is assumed that the requested tolerance\n",
      "  cannot be achieved, and that the returned result (if full_output = 1) is \n",
      "  the best which can be obtained.\n",
      "  t1 = integrate.quad(llc, -np.inf, x)[0]\n",
      "/Users/viktoria.sinditskaya/opt/anaconda3/lib/python3.9/site-packages/scipy/stats/_continuous_distns.py:3094: IntegrationWarning: The integral is probably divergent, or slowly convergent.\n",
      "  t1 = integrate.quad(llc, -np.inf, x)[0]\n",
      "Fitting 106 distributions:  43%|██████▌        | 46/106 [00:28<00:13,  4.61it/s]SKIPPED kstwo distribution (taking more than 30 seconds)\n",
      "Fitting 106 distributions:  54%|████████       | 57/106 [00:32<00:33,  1.47it/s]SKIPPED gausshyper distribution (taking more than 30 seconds)\n",
      "Fitting 106 distributions:  60%|█████████      | 64/106 [00:55<01:22,  1.97s/it]SKIPPED johnsonsu distribution (taking more than 30 seconds)\n",
      "Fitting 106 distributions:  61%|█████████▏     | 65/106 [00:57<01:23,  2.05s/it]SKIPPED kappa4 distribution (taking more than 30 seconds)\n",
      "Fitting 106 distributions:  62%|█████████▎     | 66/106 [00:58<01:01,  1.54s/it]SKIPPED ksone distribution (taking more than 30 seconds)\n",
      "Fitting 106 distributions:  64%|█████████▌     | 68/106 [00:58<00:32,  1.17it/s]SKIPPED levy_stable distribution (taking more than 30 seconds)\n",
      "Fitting 106 distributions:  67%|██████████     | 71/106 [01:10<02:04,  3.55s/it]SKIPPED mielke distribution (taking more than 30 seconds)\n",
      "Fitting 106 distributions:  68%|██████████▏    | 72/106 [01:22<03:25,  6.04s/it]SKIPPED nakagami distribution (taking more than 30 seconds)\n",
      "Fitting 106 distributions:  69%|██████████▎    | 73/106 [01:24<02:38,  4.79s/it]SKIPPED ncf distribution (taking more than 30 seconds)\n",
      "Fitting 106 distributions:  71%|██████████▌    | 75/106 [01:25<01:23,  2.68s/it]SKIPPED nct distribution (taking more than 30 seconds)\n",
      "Fitting 106 distributions:  72%|██████████▊    | 76/106 [01:27<01:14,  2.48s/it]SKIPPED ncx2 distribution (taking more than 30 seconds)\n",
      "Fitting 106 distributions:  73%|██████████▉    | 77/106 [01:28<00:53,  1.84s/it]SKIPPED norminvgauss distribution (taking more than 30 seconds)\n",
      "Fitting 106 distributions:  74%|███████████    | 78/106 [01:28<00:39,  1.42s/it]SKIPPED pearson3 distribution (taking more than 30 seconds)\n",
      "Fitting 106 distributions:  75%|███████████▏   | 79/106 [01:32<00:56,  2.09s/it]SKIPPED rv_continuous distribution (taking more than 30 seconds)\n",
      "SKIPPED rv_histogram distribution (taking more than 30 seconds)\n",
      "Fitting 106 distributions:  79%|███████████▉   | 84/106 [01:50<01:39,  4.52s/it]SKIPPED powerlognorm distribution (taking more than 30 seconds)\n",
      "Fitting 106 distributions:  80%|████████████   | 85/106 [01:52<01:23,  3.96s/it]SKIPPED powernorm distribution (taking more than 30 seconds)\n",
      "Fitting 106 distributions:  81%|████████████▏  | 86/106 [01:54<01:07,  3.37s/it]SKIPPED rdist distribution (taking more than 30 seconds)\n",
      "Fitting 106 distributions:  82%|████████████▎  | 87/106 [01:55<00:53,  2.80s/it]SKIPPED recipinvgauss distribution (taking more than 30 seconds)\n",
      "Fitting 106 distributions:  83%|████████████▍  | 88/106 [01:57<00:46,  2.57s/it]SKIPPED reciprocal distribution (taking more than 30 seconds)\n",
      "Fitting 106 distributions:  85%|████████████▋  | 90/106 [02:04<00:52,  3.30s/it]SKIPPED skewnorm distribution (taking more than 30 seconds)\n",
      "Fitting 106 distributions:  86%|████████████▉  | 91/106 [02:08<00:49,  3.28s/it]/Users/viktoria.sinditskaya/opt/anaconda3/lib/python3.9/site-packages/scipy/integrate/quadpack.py:879: IntegrationWarning: The maximum number of subdivisions (50) has been achieved.\n",
      "  If increasing the limit yields no improvement it is advised to analyze \n",
      "  the integrand in order to determine the difficulties.  If the position of a \n",
      "  local difficulty can be determined (singularity, discontinuity) one will \n",
      "  probably gain from splitting up the interval and calling the integrator \n",
      "  on the subranges.  Perhaps a special-purpose integrator should be used.\n",
      "  quad_r = quad(f, low, high, args=args, full_output=self.full_output,\n",
      "Fitting 106 distributions:  90%|█████████████▍ | 95/106 [02:18<00:21,  1.97s/it]SKIPPED studentized_range distribution (taking more than 30 seconds)\n",
      "Fitting 106 distributions:  92%|█████████████▋ | 97/106 [02:20<00:12,  1.37s/it]SKIPPED triang distribution (taking more than 30 seconds)\n",
      "Fitting 106 distributions:  93%|██████████████ | 99/106 [02:28<00:16,  2.37s/it]/Users/viktoria.sinditskaya/opt/anaconda3/lib/python3.9/site-packages/scipy/integrate/quadpack.py:879: IntegrationWarning: The integral is probably divergent, or slowly convergent.\n",
      "  quad_r = quad(f, low, high, args=args, full_output=self.full_output,\n",
      "SKIPPED truncnorm distribution (taking more than 30 seconds)\n",
      "Fitting 106 distributions:  94%|█████████████▏| 100/106 [02:34<00:21,  3.66s/it]SKIPPED tukeylambda distribution (taking more than 30 seconds)\n",
      "Fitting 106 distributions:  97%|█████████████▌| 103/106 [02:47<00:11,  3.98s/it]SKIPPED vonmises distribution (taking more than 30 seconds)\n",
      "Fitting 106 distributions:  98%|█████████████▋| 104/106 [02:47<00:05,  2.91s/it]SKIPPED weibull_max distribution (taking more than 30 seconds)\n",
      "Fitting 106 distributions: 100%|██████████████| 106/106 [02:57<00:00,  1.67s/it]\n"
     ]
    },
    {
     "data": {
      "text/html": [
       "<div>\n",
       "<style scoped>\n",
       "    .dataframe tbody tr th:only-of-type {\n",
       "        vertical-align: middle;\n",
       "    }\n",
       "\n",
       "    .dataframe tbody tr th {\n",
       "        vertical-align: top;\n",
       "    }\n",
       "\n",
       "    .dataframe thead th {\n",
       "        text-align: right;\n",
       "    }\n",
       "</style>\n",
       "<table border=\"1\" class=\"dataframe\">\n",
       "  <thead>\n",
       "    <tr style=\"text-align: right;\">\n",
       "      <th></th>\n",
       "      <th>sumsquare_error</th>\n",
       "      <th>aic</th>\n",
       "      <th>bic</th>\n",
       "      <th>kl_div</th>\n",
       "      <th>ks_statistic</th>\n",
       "      <th>ks_pvalue</th>\n",
       "    </tr>\n",
       "  </thead>\n",
       "  <tbody>\n",
       "    <tr>\n",
       "      <th>kappa3</th>\n",
       "      <td>7.875411</td>\n",
       "      <td>170.440770</td>\n",
       "      <td>-64583.404526</td>\n",
       "      <td>inf</td>\n",
       "      <td>0.041293</td>\n",
       "      <td>5.327526e-14</td>\n",
       "    </tr>\n",
       "    <tr>\n",
       "      <th>genhalflogistic</th>\n",
       "      <td>8.777461</td>\n",
       "      <td>162.421462</td>\n",
       "      <td>-63590.728193</td>\n",
       "      <td>inf</td>\n",
       "      <td>0.041293</td>\n",
       "      <td>5.327555e-14</td>\n",
       "    </tr>\n",
       "    <tr>\n",
       "      <th>halflogistic</th>\n",
       "      <td>8.778195</td>\n",
       "      <td>160.393650</td>\n",
       "      <td>-63599.085272</td>\n",
       "      <td>inf</td>\n",
       "      <td>0.041293</td>\n",
       "      <td>5.327534e-14</td>\n",
       "    </tr>\n",
       "    <tr>\n",
       "      <th>genexpon</th>\n",
       "      <td>9.160381</td>\n",
       "      <td>160.324860</td>\n",
       "      <td>-63181.603665</td>\n",
       "      <td>inf</td>\n",
       "      <td>0.041293</td>\n",
       "      <td>5.327517e-14</td>\n",
       "    </tr>\n",
       "    <tr>\n",
       "      <th>halfgennorm</th>\n",
       "      <td>9.697367</td>\n",
       "      <td>153.586752</td>\n",
       "      <td>-62678.374175</td>\n",
       "      <td>inf</td>\n",
       "      <td>0.041293</td>\n",
       "      <td>5.327531e-14</td>\n",
       "    </tr>\n",
       "  </tbody>\n",
       "</table>\n",
       "</div>"
      ],
      "text/plain": [
       "                 sumsquare_error         aic           bic  kl_div  \\\n",
       "kappa3                  7.875411  170.440770 -64583.404526     inf   \n",
       "genhalflogistic         8.777461  162.421462 -63590.728193     inf   \n",
       "halflogistic            8.778195  160.393650 -63599.085272     inf   \n",
       "genexpon                9.160381  160.324860 -63181.603665     inf   \n",
       "halfgennorm             9.697367  153.586752 -62678.374175     inf   \n",
       "\n",
       "                 ks_statistic     ks_pvalue  \n",
       "kappa3               0.041293  5.327526e-14  \n",
       "genhalflogistic      0.041293  5.327555e-14  \n",
       "halflogistic         0.041293  5.327534e-14  \n",
       "genexpon             0.041293  5.327517e-14  \n",
       "halfgennorm          0.041293  5.327531e-14  "
      ]
     },
     "execution_count": 90,
     "metadata": {},
     "output_type": "execute_result"
    },
    {
     "data": {
      "image/png": "[encoded data removed]",
      "text/plain": [
       "<Figure size 842.4x595.44 with 1 Axes>"
      ]
     },
     "metadata": {},
     "output_type": "display_data"
    }
   ],
   "source": [
    "f = Fitter(df.ctr.values)\n",
    "f.fit()\n",
    "f.summary()"
   ]
  },
  {
   "cell_type": "code",
   "execution_count": 91,
   "id": "b3eb900a",
   "metadata": {},
   "outputs": [
    {
     "data": {
      "text/plain": [
       "{'kappa3': {'a': 2.9772375132397473,\n",
       "  'loc': -3.8229663481627183e-10,\n",
       "  'scale': 0.24001260085349735}}"
      ]
     },
     "execution_count": 91,
     "metadata": {},
     "output_type": "execute_result"
    }
   ],
   "source": [
    "f.get_best(method = 'sumsquare_error')"
   ]
  },
  {
   "cell_type": "code",
   "execution_count": 92,
   "id": "60613bc2",
   "metadata": {},
   "outputs": [
    {
     "data": {
      "text/plain": [
       "(1.4167690345281891,\n",
       " 1.0457824403488938,\n",
       " 1.9945637519001191,\n",
       " -2.5630954567474387e-12,\n",
       " 0.44556938877456964)"
      ]
     },
     "execution_count": 92,
     "metadata": {},
     "output_type": "execute_result"
    }
   ],
   "source": [
    "f.fitted_param['genexpon']"
   ]
  },
  {
   "cell_type": "code",
   "execution_count": 100,
   "id": "d96593a0",
   "metadata": {},
   "outputs": [
    {
     "data": {
      "text/plain": [
       "(1.0501428689659692e-07, -1.5182472131933076e-09, 0.1672753935314941)"
      ]
     },
     "execution_count": 100,
     "metadata": {},
     "output_type": "execute_result"
    }
   ],
   "source": [
    "f.fitted_param['genhalflogistic']"
   ]
  },
  {
   "cell_type": "code",
   "execution_count": 130,
   "id": "c9c0f942",
   "metadata": {},
   "outputs": [
    {
     "data": {
      "text/plain": [
       "(1.346020832992644, -5.34507408814794e-10, 0.32239864518812256)"
      ]
     },
     "execution_count": 130,
     "metadata": {},
     "output_type": "execute_result"
    }
   ],
   "source": [
    "f.fitted_param['halfgennorm']"
   ]
  },
  {
   "cell_type": "markdown",
   "id": "83ae89ef",
   "metadata": {},
   "source": [
    "# Метрика CTR"
   ]
  },
  {
   "cell_type": "markdown",
   "id": "e864591d",
   "metadata": {},
   "source": [
    "Чтобы посмотреть, как распределен глобальный CTR используем пуассоновский бутстреп."
   ]
  },
  {
   "cell_type": "code",
   "execution_count": 58,
   "id": "896f758a",
   "metadata": {},
   "outputs": [],
   "source": [
    "bootstrap_conf_level = 0.95"
   ]
  },
  {
   "cell_type": "code",
   "execution_count": 29,
   "id": "82d942a1",
   "metadata": {},
   "outputs": [],
   "source": [
    "def bootstrap_sample(click, views, n_bootstrap=2000):\n",
    "    poisson_bootstraps1 = stats.poisson(1).rvs(\n",
    "        (n_bootstrap, len(click))).astype(np.int64)\n",
    "    globalCTR = (poisson_bootstraps1*click).sum(axis=1)/(poisson_bootstraps1*views).sum(axis=1)\n",
    "    return globalCTR"
   ]
  },
  {
   "cell_type": "code",
   "execution_count": 40,
   "id": "bdeaef3e",
   "metadata": {},
   "outputs": [],
   "source": [
    "ctr = bootstrap_sample(df.click.values, df.view.values)"
   ]
  },
  {
   "cell_type": "code",
   "execution_count": 41,
   "id": "21cd84da",
   "metadata": {},
   "outputs": [],
   "source": [
    "left_quant = (1 - bootstrap_conf_level)/2\n",
    "right_quant = 1 - (1 - bootstrap_conf_level) / 2\n",
    "quants = pd.DataFrame(ctr).quantile([left_quant, right_quant])"
   ]
  },
  {
   "cell_type": "code",
   "execution_count": 42,
   "id": "6b49c924",
   "metadata": {},
   "outputs": [
    {
     "data": {
      "text/html": [
       "<div>\n",
       "<style scoped>\n",
       "    .dataframe tbody tr th:only-of-type {\n",
       "        vertical-align: middle;\n",
       "    }\n",
       "\n",
       "    .dataframe tbody tr th {\n",
       "        vertical-align: top;\n",
       "    }\n",
       "\n",
       "    .dataframe thead th {\n",
       "        text-align: right;\n",
       "    }\n",
       "</style>\n",
       "<table border=\"1\" class=\"dataframe\">\n",
       "  <thead>\n",
       "    <tr style=\"text-align: right;\">\n",
       "      <th></th>\n",
       "      <th>0</th>\n",
       "    </tr>\n",
       "  </thead>\n",
       "  <tbody>\n",
       "    <tr>\n",
       "      <th>0.025</th>\n",
       "      <td>0.175527</td>\n",
       "    </tr>\n",
       "    <tr>\n",
       "      <th>0.975</th>\n",
       "      <td>0.180973</td>\n",
       "    </tr>\n",
       "  </tbody>\n",
       "</table>\n",
       "</div>"
      ],
      "text/plain": [
       "              0\n",
       "0.025  0.175527\n",
       "0.975  0.180973"
      ]
     },
     "execution_count": 42,
     "metadata": {},
     "output_type": "execute_result"
    }
   ],
   "source": [
    "quants"
   ]
  },
  {
   "cell_type": "code",
   "execution_count": 48,
   "id": "8523f4b3",
   "metadata": {},
   "outputs": [
    {
     "data": {
      "text/plain": [
       "<matplotlib.collections.LineCollection at 0x7fb1649ef1c0>"
      ]
     },
     "execution_count": 48,
     "metadata": {},
     "output_type": "execute_result"
    },
    {
     "data": {
      "image/png": "[encoded data removed]",
      "text/plain": [
       "<Figure size 842.4x595.44 with 1 Axes>"
      ]
     },
     "metadata": {},
     "output_type": "display_data"
    }
   ],
   "source": [
    "sns.histplot(ctr)\n",
    "plt.vlines(quants,ymin=0,ymax=100, color='r', linestyle='--')"
   ]
  },
  {
   "cell_type": "code",
   "execution_count": 52,
   "id": "cbd7fa73",
   "metadata": {},
   "outputs": [
    {
     "data": {
      "text/plain": [
       "(0.001355075308441539, 0.18)"
      ]
     },
     "execution_count": 52,
     "metadata": {},
     "output_type": "execute_result"
    }
   ],
   "source": [
    "np.std(ctr), round(np.mean(ctr), 2)"
   ]
  },
  {
   "cell_type": "markdown",
   "id": "f722b80f",
   "metadata": {},
   "source": [
    "Очень похоже по графику, что метрика имеет нормальное распределение. Среднее -  0.18 и стандартное отклонение 0.0014. С вероятностью 95% истинное значение CTR  лежит в пределах 0.176 и 0.181."
   ]
  },
  {
   "cell_type": "markdown",
   "id": "13a44b23",
   "metadata": {},
   "source": [
    "# Оценка эксперимента по CTR"
   ]
  },
  {
   "cell_type": "markdown",
   "id": "deba7ff3",
   "metadata": {},
   "source": [
    "Для оценки изменения глобального CTR можно применять различные способы. Выбор критерия зависит от вида распределений просмотров и поюзерного ctr, наличия выбросов, сильной скошенности."
   ]
  },
  {
   "cell_type": "markdown",
   "id": "e1249de9",
   "metadata": {},
   "source": [
    "Проверим несколько способов: обычный бутстреп, дельта метод (считает дисперсию, учитывая, что события не независимы, что позволяет применять стандартные критерии, используем ttest) и линеаризацию (изменения линеаризованных кликов будут идти в одну сторону с изменением глобального CTR)."
   ]
  },
  {
   "cell_type": "markdown",
   "id": "b1c3f403",
   "metadata": {},
   "source": [
    "Критерием отбора будем использовать FPR и чувствительность."
   ]
  },
  {
   "cell_type": "markdown",
   "id": "cac123d6",
   "metadata": {},
   "source": [
    "Данные попробуем сгенерировать самостоятельно, отталкиваясь от распределения фактических выборок."
   ]
  },
  {
   "cell_type": "code",
   "execution_count": 178,
   "id": "70bd3409",
   "metadata": {},
   "outputs": [],
   "source": [
    "# для бутстрепа\n",
    "\n",
    "def bootstrap_two_sample(click1, views1, click2, views2, n_bootstrap=1000):\n",
    "\n",
    "    poisson_bootstraps1 = stats.poisson(1).rvs(\n",
    "        (n_bootstrap, len(click1))).astype(np.int64)\n",
    "\n",
    "    poisson_bootstraps2 = stats.poisson(1).rvs(\n",
    "            (n_bootstrap, len(click2))).astype(np.int64)\n",
    "    \n",
    "    globalCTR1 = (poisson_bootstraps1*click1).sum(axis=1)/(poisson_bootstraps1*views1).sum(axis=1)\n",
    "    \n",
    "    globalCTR2 = (poisson_bootstraps2*click2).sum(axis=1)/(poisson_bootstraps2*views2).sum(axis=1)\n",
    "    \n",
    "    boot_data = globalCTR2 - globalCTR1\n",
    "\n",
    "    p_1 = stats.norm.cdf(\n",
    "        x = 0, \n",
    "        loc = np.mean(boot_data), \n",
    "        scale = np.std(boot_data)\n",
    "    )\n",
    "    p_2 = stats.norm.cdf(\n",
    "        x = 0, \n",
    "        loc = -np.mean(boot_data), \n",
    "        scale = np.std(boot_data)\n",
    "    )\n",
    "    p_value = min(p_1, p_2) * 2\n",
    "\n",
    "    return p_value\n"
   ]
  },
  {
   "cell_type": "code",
   "execution_count": 206,
   "id": "5bbd4259",
   "metadata": {},
   "outputs": [],
   "source": [
    "# для линеаризации\n",
    "\n",
    "def linearized_ab(click1,  view1, click2, view2):\n",
    "    global_ctr_1 = click1.sum()/view1.sum()\n",
    "\n",
    "    linearized_clicks1 = click1 - global_ctr_1 * view1\n",
    "\n",
    "    linearized_clicks2 = click2 - global_ctr_1 * view2\n",
    "\n",
    "    pval = stats.ttest_ind(linearized_clicks1,\n",
    "                linearized_clicks2,\n",
    "                equal_var=False).pvalue\n",
    "    \n",
    "    return pval"
   ]
  },
  {
   "cell_type": "code",
   "execution_count": 211,
   "id": "1582fd9a",
   "metadata": {},
   "outputs": [],
   "source": [
    "# для дельта метода\n",
    "\n",
    "def var_ratio(x,y): \n",
    "    mean_x = np.mean(x)\n",
    "    mean_y = np.mean(y)\n",
    "    var_x = np.var(x,ddof=1)\n",
    "    var_y = np.var(y,ddof=1)\n",
    "    cov_xy = np.cov(x,y,ddof=1)[0][1]\n",
    "    result = (var_x/mean_x**2 + var_y/mean_y**2 - 2*cov_xy/(mean_x*mean_y))*(mean_x*mean_x)/(mean_y*mean_y*len(x))\n",
    "    return result\n",
    "\n",
    "def delta_ab(click1,  view1, click2, view2):\n",
    "    var1 = var_ratio(click1, view1)\n",
    "    var2 = var_ratio(click2, view2)\n",
    "    mean_control = click1.sum()/view1.sum()\n",
    "    mean_treatment = click2.sum()/view2.sum()\n",
    "    \n",
    "    diff = mean_treatment - mean_control\n",
    "    var = var1+var2\n",
    "    stde = 1.96*np.sqrt(var)\n",
    "    lower = diff - stde \n",
    "    upper = diff + stde\n",
    "    z = diff/np.sqrt(var)\n",
    "    pval = stats.norm.sf(abs(z))*2\n",
    "    return pval\n",
    "\n"
   ]
  },
  {
   "cell_type": "markdown",
   "id": "9f7b2e93",
   "metadata": {},
   "source": [
    "Для того, чтобы рассчитать чувствительность и FPR нужно будет построить процесс генерации данных: просморов, поюзерных CTR, а уже на их основе глобального CTR.  Тестовых групп будем генерировать две -  c  uplift и без него. uplift возьмем невысокий, чтобы чувствительность проверялась в более реалистичных условиях (обычно не меняем CTR на несколько десятков процентов, а 1-5% uplift вполне рабочая ситуация)"
   ]
  },
  {
   "cell_type": "markdown",
   "id": "53c093b2",
   "metadata": {},
   "source": [
    "### Генерация данных"
   ]
  },
  {
   "cell_type": "code",
   "execution_count": 258,
   "id": "8b9a7064",
   "metadata": {},
   "outputs": [],
   "source": [
    "N = 5000 # размер выборок возьмем сопоставимым с исходным размером\n",
    "experiments = 1000\n",
    "uplift = 0.05\n"
   ]
  },
  {
   "cell_type": "code",
   "execution_count": 259,
   "id": "c493957e",
   "metadata": {},
   "outputs": [],
   "source": [
    "viewsA = stats.uniform.rvs(loc=1, scale=df.view.max(), size=N*experiments).astype(np.int64).reshape(experiments, N)\n",
    "viewsB = stats.uniform.rvs(loc=1, scale=df.view.max(), size=N*experiments).astype(np.int64).reshape(experiments, N)"
   ]
  },
  {
   "cell_type": "code",
   "execution_count": 159,
   "id": "b99a19ec",
   "metadata": {},
   "outputs": [
    {
     "data": {
      "text/plain": [
       "Text(0.5, 1.0, 'Views, 99%-ile = 116.0  ')"
      ]
     },
     "execution_count": 159,
     "metadata": {},
     "output_type": "execute_result"
    },
    {
     "data": {
      "image/png": "[encoded data removed]",
      "text/plain": [
       "<Figure size 842.4x595.44 with 1 Axes>"
      ]
     },
     "metadata": {},
     "output_type": "display_data"
    }
   ],
   "source": [
    "# показы будем генерировать из равномерного распределения\n",
    "\n",
    "fig = plt.figure()\n",
    "ax_views = fig.add_subplot()\n",
    "views_distr = sns.histplot(viewsA.ravel(),  \n",
    "                           bins=range(0, 120),\n",
    "                           kde=False,\n",
    "                           ax=ax_views,\n",
    "                           stat='probability')\n",
    "ax_views.set_xlim((0, 120))\n",
    "views_99_percentile = np.percentile(viewsA.ravel(), 99)\n",
    "ax_views.set_title(f'Views, 99%-ile = {views_99_percentile:<7.1f}')"
   ]
  },
  {
   "cell_type": "markdown",
   "id": "da672b57",
   "metadata": {},
   "source": [
    "Далее сгенерируем данные по поюзерному ctr и используем эти данные для генерации кликов из биномиального распределения.\n",
    "Так как сам вид распределения и ctr и кликов с просмотрами из задания вызывает вопросы, пока взяла бета-распределение, которым удобно моделировать ratio метрики, и подобрала для него параметры, наиболее подходящие к текущему распределению. Но сгенерированные клики, конечно, получились с другой формой нежели чем клики из задания. И это вроде логично, учитывая форму сгенерированного ctr. Почему в задании клики с равномерным распределением - пока не понятно."
   ]
  },
  {
   "cell_type": "code",
   "execution_count": 260,
   "id": "7a6210d3",
   "metadata": {},
   "outputs": [
    {
     "data": {
      "text/plain": [
       "Text(0.5, 1.0, 'Ground truth user CTR, std = 0.194')"
      ]
     },
     "execution_count": 260,
     "metadata": {},
     "output_type": "execute_result"
    },
    {
     "data": {
      "image/png": "[encoded data removed]",
      "text/plain": [
       "<Figure size 842.4x595.44 with 1 Axes>"
      ]
     },
     "metadata": {},
     "output_type": "display_data"
    }
   ],
   "source": [
    "\n",
    "beta = 3\n",
    "alpha = 1\n",
    "success_rate = 0.25\n",
    "alpha_up = success_rate * (1 + uplift) * beta / (1 - success_rate * (1 + uplift) )\n",
    "\n",
    "\n",
    "success_rate_A = stats.beta(alpha, beta).rvs(\n",
    "    experiments * N).reshape(experiments, N)\n",
    "\n",
    "success_rate_B_AA = stats.beta(alpha, beta).rvs(\n",
    "    experiments * N).reshape(experiments, N)\n",
    "\n",
    "success_rate_B_AB = stats.beta(alpha_up, beta).rvs(\n",
    "    experiments * N).reshape(experiments, N)\n",
    "\n",
    "fig = plt.figure()\n",
    "\n",
    "ax_ctr = fig.add_subplot()\n",
    "sns.histplot(success_rate_A.ravel(),\n",
    "             bins=np.linspace(0, 1, 100),\n",
    "             ax=ax_ctr,\n",
    "             kde=False,\n",
    "             stat='probability')\n",
    "ax_ctr.set_xlim((0, 1))\n",
    "success_rate_std = success_rate_A[:10].flatten().std()\n",
    "ax_ctr.set_title(f'Ground truth user CTR, std = {success_rate_std:2.3f}')"
   ]
  },
  {
   "cell_type": "code",
   "execution_count": 261,
   "id": "d248df4e",
   "metadata": {},
   "outputs": [],
   "source": [
    "clicks_A = stats.binom.rvs(viewsA, success_rate_A)\n",
    "clicks_B_AA = stats.binom.rvs(viewsB, success_rate_B_AA)\n",
    "clicks_B_AB = stats.binom.rvs(viewsB, success_rate_B_AB)\n",
    "\n"
   ]
  },
  {
   "cell_type": "code",
   "execution_count": 262,
   "id": "4d352fb6",
   "metadata": {},
   "outputs": [
    {
     "data": {
      "image/png": "[encoded data removed]",
      "text/plain": [
       "<Figure size 842.4x595.44 with 1 Axes>"
      ]
     },
     "metadata": {},
     "output_type": "display_data"
    }
   ],
   "source": [
    "fig = plt.figure()\n",
    "ax_clicks = fig.add_subplot()\n",
    "clicks_distr = sns.histplot(clicks_A.ravel(),\n",
    "                            kde=False,\n",
    "                            ax=ax_clicks,\n",
    "                            stat='probability')\n"
   ]
  },
  {
   "cell_type": "markdown",
   "id": "72ed2094",
   "metadata": {},
   "source": [
    "#### Считаем FPR для разных способов"
   ]
  },
  {
   "cell_type": "code",
   "execution_count": 219,
   "id": "69945e29",
   "metadata": {},
   "outputs": [
    {
     "name": "stderr",
     "output_type": "stream",
     "text": [
      "100%|███████████████████████████████████████| 1000/1000 [08:58<00:00,  1.86it/s]\n"
     ]
    }
   ],
   "source": [
    "boot_pvalues = []\n",
    "lin_pvalues = []\n",
    "delta_pvalues = []\n",
    "\n",
    "for i in tqdm(range(experiments)):\n",
    "    boot_pvalues.append(bootstrap_two_sample(clicks_A[i], viewsA[i], clicks_B_AA[i], viewsB[i]))\n",
    "    lin_pvalues.append(linearized_ab(clicks_A[i], viewsA[i], clicks_B_AA[i], viewsB[i]))\n",
    "    delta_pvalues.append(delta_ab(clicks_A[i], viewsA[i], clicks_B_AA[i], viewsB[i]))"
   ]
  },
  {
   "cell_type": "code",
   "execution_count": 284,
   "id": "ccf45919",
   "metadata": {},
   "outputs": [],
   "source": [
    "sns.set(rc={'figure.figsize':(5,5)})"
   ]
  },
  {
   "cell_type": "code",
   "execution_count": 221,
   "id": "c25dba7b",
   "metadata": {},
   "outputs": [
    {
     "data": {
      "image/png": "[encoded data removed]",
      "text/plain": [
       "<Figure size 842.4x595.44 with 3 Axes>"
      ]
     },
     "metadata": {},
     "output_type": "display_data"
    }
   ],
   "source": [
    "fig, axes = plt.subplots(ncols=1, nrows=3)\n",
    "p_values_distr_boot = sns.histplot(boot_pvalues,\n",
    "                 bins=np.linspace(0, 1, 20),\n",
    "                 kde=False,\n",
    "                 ax = axes[0],\n",
    "                 stat='probability')\n",
    "axes[0].set_xlim((0, 1))\n",
    "axes[0].set_title('Распределение pvalues на AA тесте для бутстрепа')\n",
    "\n",
    "\n",
    "p_values_distr_lin = sns.histplot(lin_pvalues, \n",
    "                 bins=np.linspace(0, 1, 20),\n",
    "                 kde=False,\n",
    "                 ax = axes[1],\n",
    "                 stat='probability')\n",
    "axes[1].set_xlim((0, 1))\n",
    "axes[1].set_title('Распределение pvalues на AA тесте для линеаризованных кликов')\n",
    "\n",
    "\n",
    "p_values_distr_delta = sns.histplot(delta_pvalues, \n",
    "                 bins=np.linspace(0, 1, 20),\n",
    "                 kde=False,\n",
    "                 ax = axes[2],\n",
    "                 stat='probability')\n",
    "axes[2].set_xlim((0, 1))\n",
    "axes[2].set_title('Распределение pvalues на AA тесте для дельта метода')\n",
    "\n",
    "plt.tight_layout()"
   ]
  },
  {
   "cell_type": "code",
   "execution_count": 230,
   "id": "681a2bbe",
   "metadata": {},
   "outputs": [],
   "source": [
    "boot_pvalues = np.array(boot_pvalues)\n",
    "\n",
    "lin_pvalues = np.array(lin_pvalues)\n",
    "\n",
    "delta_pvalues = np.array(delta_pvalues)"
   ]
  },
  {
   "cell_type": "code",
   "execution_count": 233,
   "id": "7727d332",
   "metadata": {},
   "outputs": [
    {
     "data": {
      "text/plain": [
       "0.051"
      ]
     },
     "execution_count": 233,
     "metadata": {},
     "output_type": "execute_result"
    }
   ],
   "source": [
    "np.mean(boot_pvalues<0.05)"
   ]
  },
  {
   "cell_type": "code",
   "execution_count": 231,
   "id": "637015f1",
   "metadata": {},
   "outputs": [
    {
     "data": {
      "text/plain": [
       "0.049"
      ]
     },
     "execution_count": 231,
     "metadata": {},
     "output_type": "execute_result"
    }
   ],
   "source": [
    "np.mean(lin_pvalues<0.05)"
   ]
  },
  {
   "cell_type": "code",
   "execution_count": 234,
   "id": "341a8e46",
   "metadata": {},
   "outputs": [
    {
     "data": {
      "text/plain": [
       "0.049"
      ]
     },
     "execution_count": 234,
     "metadata": {},
     "output_type": "execute_result"
    }
   ],
   "source": [
    "np.mean(delta_pvalues<0.05)"
   ]
  },
  {
   "cell_type": "markdown",
   "id": "3fd4d982",
   "metadata": {},
   "source": [
    "На сгенерированных данных все три способа тестирования гипотез показали достойный FPR"
   ]
  },
  {
   "cell_type": "markdown",
   "id": "d14be280",
   "metadata": {},
   "source": [
    "#### Проверяем чувствительность"
   ]
  },
  {
   "cell_type": "code",
   "execution_count": 263,
   "id": "72544a63",
   "metadata": {},
   "outputs": [
    {
     "name": "stderr",
     "output_type": "stream",
     "text": [
      "100%|███████████████████████████████████████| 1000/1000 [21:22<00:00,  1.28s/it]\n"
     ]
    }
   ],
   "source": [
    "boot_pvalues_ab = []\n",
    "lin_pvalues_ab = []\n",
    "delta_pvalues_ab = []\n",
    "\n",
    "for i in tqdm(range(experiments)):\n",
    "    boot_pvalues_ab.append(bootstrap_two_sample(clicks_A[i], viewsA[i], clicks_B_AB[i], viewsB[i]))\n",
    "    lin_pvalues_ab.append(linearized_ab(clicks_A[i], viewsA[i], clicks_B_AB[i], viewsB[i]))\n",
    "    delta_pvalues_ab.append(delta_ab(clicks_A[i], viewsA[i], clicks_B_AB[i], viewsB[i]))"
   ]
  },
  {
   "cell_type": "code",
   "execution_count": 268,
   "id": "ec981853",
   "metadata": {},
   "outputs": [],
   "source": [
    "boot_pvalues_ab = np.array(boot_pvalues_ab)\n",
    "\n",
    "lin_pvalues_ab = np.array(lin_pvalues_ab)\n",
    "\n",
    "delta_pvalues_ab = np.array(delta_pvalues_ab)"
   ]
  },
  {
   "cell_type": "code",
   "execution_count": 272,
   "id": "fc951f30",
   "metadata": {},
   "outputs": [
    {
     "data": {
      "text/plain": [
       "0.779"
      ]
     },
     "execution_count": 272,
     "metadata": {},
     "output_type": "execute_result"
    }
   ],
   "source": [
    "np.mean(boot_pvalues_ab<0.05)\n",
    "\n"
   ]
  },
  {
   "cell_type": "code",
   "execution_count": 270,
   "id": "ccf4dd57",
   "metadata": {},
   "outputs": [
    {
     "data": {
      "text/plain": [
       "0.78"
      ]
     },
     "execution_count": 270,
     "metadata": {},
     "output_type": "execute_result"
    }
   ],
   "source": [
    "np.mean(lin_pvalues_ab<0.05)"
   ]
  },
  {
   "cell_type": "code",
   "execution_count": 271,
   "id": "db7b91e0",
   "metadata": {},
   "outputs": [
    {
     "data": {
      "text/plain": [
       "0.778"
      ]
     },
     "execution_count": 271,
     "metadata": {},
     "output_type": "execute_result"
    }
   ],
   "source": [
    "np.mean(delta_pvalues_ab<0.05)"
   ]
  },
  {
   "cell_type": "markdown",
   "id": "efdcbe0c",
   "metadata": {},
   "source": [
    "И чувствительность во всех случая тоже почти дотягивает до эталонной в 80%"
   ]
  },
  {
   "cell_type": "markdown",
   "id": "6b47899d",
   "metadata": {},
   "source": [
    "## Итог"
   ]
  },
  {
   "cell_type": "markdown",
   "id": "69846190",
   "metadata": {},
   "source": [
    "По смоделированным данным все три способа проявили себя хорошо.\n",
    "Поэтому, чтобы выбрать какой-то один нужно рассмотреть еще и затраты на вычисления. По этому критерию бутстреп не подходит, так как он достаточно долгий.\n",
    "Я бы остановила свой выбор на дельта методе, потому что по сути он считает данные по исходной метрике CTR, а не использует прокси, как в линеаризации. Но тут конечно нужны дополнительные исследования. \n",
    "\n",
    "Также остаются незакрытые вопросы к данными - почему такая нетипичная форма распределения у просмотров/кликов/поюзерного ctr?"
   ]
  },
  {
   "cell_type": "code",
   "execution_count": null,
   "id": "13e33082",
   "metadata": {},
   "outputs": [],
   "source": []
  }
 ],
 "metadata": {
  "kernelspec": {
   "display_name": "Python 3 (ipykernel)",
   "language": "python",
   "name": "python3"
  },
  "language_info": {
   "codemirror_mode": {
    "name": "ipython",
    "version": 3
   },
   "file_extension": ".py",
   "mimetype": "text/x-python",
   "name": "python",
   "nbconvert_exporter": "python",
   "pygments_lexer": "ipython3",
   "version": "3.9.7"
  }
 },
 "nbformat": 4,
 "nbformat_minor": 5
}
